{
 "cells": [
  {
   "cell_type": "code",
   "execution_count": 46,
   "id": "ec684c90",
   "metadata": {},
   "outputs": [
    {
     "name": "stdout",
     "output_type": "stream",
     "text": [
      "      Price  SqFt  Bedrooms  Bathrooms  Offers Brick Neighborhood\n",
      "0    114300  1790         2          2       2    No         East\n",
      "1    114200  2030         4          2       3    No         East\n",
      "2    114800  1740         3          2       1    No         East\n",
      "3     94700  1980         3          2       3    No         East\n",
      "4    119800  2130         3          3       3    No         East\n",
      "..      ...   ...       ...        ...     ...   ...          ...\n",
      "123  119700  1900         3          3       3   Yes         East\n",
      "124  147900  2160         4          3       3   Yes         East\n",
      "125  113500  2070         2          2       2    No        North\n",
      "126  149900  2020         3          3       1    No         West\n",
      "127  124600  2250         3          3       4    No        North\n",
      "\n",
      "[128 rows x 7 columns]\n"
     ]
    }
   ],
   "source": [
    "import pandas as pd\n",
    "\n",
    "data_nadhira = pd.read_clipboard()\n",
    "\n",
    "# Menampilkan data\n",
    "print(data_nadhira)"
   ]
  },
  {
   "cell_type": "code",
   "execution_count": 47,
   "id": "ad32da8f",
   "metadata": {},
   "outputs": [
    {
     "name": "stdout",
     "output_type": "stream",
     "text": [
      "      Price  SqFt  Bedrooms  Bathrooms  Offers Brick Neighborhood\n",
      "0    114300  1790         2          2       2    No         East\n",
      "11   123000  1870         2          2       2   Yes         East\n",
      "18   111400  1700         2          2       1   Yes         East\n",
      "28    69100  1600         2          2       3    No        North\n",
      "31   112300  1930         2          2       2   Yes        North\n",
      "34   117800  2000         2          2       3    No        North\n",
      "36   117500  1880         2          2       2    No        North\n",
      "40   106600  1560         2          2       1    No         East\n",
      "42   105600  1990         2          2       3    No         East\n",
      "46   129800  1990         2          3       2    No        North\n",
      "48   115900  1980         2          2       2    No         East\n",
      "51    91100  1860         2          2       3    No        North\n",
      "52   117400  2150         2          3       4    No        North\n",
      "55   125700  1720         2          2       2   Yes         East\n",
      "61   100900  1610         2          2       2    No        North\n",
      "63   120500  1910         2          3       2    No         East\n",
      "65   111100  1450         2          2       1   Yes        North\n",
      "75   106900  1900         2          2       2    No        North\n",
      "82   164800  2050         2          2       1   Yes         West\n",
      "84    90500  1520         2          2       3    No        North\n",
      "89    97800  2010         2          2       4    No        North\n",
      "95   152500  1970         2          2       1   Yes         West\n",
      "97   126800  2000         2          2       1   Yes         East\n",
      "110  111600  1710         2          2       1    No        North\n",
      "111  114900  1740         2          2       2    No        North\n",
      "112  123600  1940         2          2       2   Yes         East\n",
      "119  109700  1920         2          2       4    No        North\n",
      "120  110400  1930         2          3       3    No        North\n",
      "122  144800  2060         2          2       1   Yes         East\n",
      "125  113500  2070         2          2       2    No        North\n"
     ]
    }
   ],
   "source": [
    "nadhira = data_nadhira[data_nadhira['Bedrooms'] == 2]\n",
    "\n",
    "# Menampilkan nama\n",
    "print(nadhira)\n"
   ]
  },
  {
   "cell_type": "code",
   "execution_count": 49,
   "id": "33dda90f",
   "metadata": {},
   "outputs": [
    {
     "ename": "ValueError",
     "evalue": "Unable to parse string \"small\" at position 0",
     "output_type": "error",
     "traceback": [
      "\u001b[1;31m---------------------------------------------------------------------------\u001b[0m",
      "\u001b[1;31mValueError\u001b[0m                                Traceback (most recent call last)",
      "File \u001b[1;32m~\\anaconda3\\Lib\\site-packages\\pandas\\_libs\\lib.pyx:2280\u001b[0m, in \u001b[0;36mpandas._libs.lib.maybe_convert_numeric\u001b[1;34m()\u001b[0m\n",
      "\u001b[1;31mValueError\u001b[0m: Unable to parse string \"small\"",
      "\nDuring handling of the above exception, another exception occurred:\n",
      "\u001b[1;31mValueError\u001b[0m                                Traceback (most recent call last)",
      "Cell \u001b[1;32mIn[49], line 1\u001b[0m\n\u001b[1;32m----> 1\u001b[0m nadhira[\u001b[38;5;124m'\u001b[39m\u001b[38;5;124mBathrooms\u001b[39m\u001b[38;5;124m'\u001b[39m] \u001b[38;5;241m=\u001b[39m pd\u001b[38;5;241m.\u001b[39mto_numeric(nadhira[\u001b[38;5;124m'\u001b[39m\u001b[38;5;124mBathrooms\u001b[39m\u001b[38;5;124m'\u001b[39m])\n\u001b[0;32m      3\u001b[0m \u001b[38;5;28;01mimport\u001b[39;00m \u001b[38;5;21;01mnumpy\u001b[39;00m \u001b[38;5;28;01mas\u001b[39;00m \u001b[38;5;21;01mnp\u001b[39;00m\n\u001b[0;32m      5\u001b[0m nadhira[\u001b[38;5;124m'\u001b[39m\u001b[38;5;124mBathrooms\u001b[39m\u001b[38;5;124m'\u001b[39m] \u001b[38;5;241m=\u001b[39m nadhira[\u001b[38;5;124m'\u001b[39m\u001b[38;5;124mBathrooms\u001b[39m\u001b[38;5;124m'\u001b[39m]\u001b[38;5;241m.\u001b[39mapply(\u001b[38;5;28;01mlambda\u001b[39;00m x: \u001b[38;5;124m'\u001b[39m\u001b[38;5;124mlarge\u001b[39m\u001b[38;5;124m'\u001b[39m \u001b[38;5;28;01mif\u001b[39;00m x \u001b[38;5;241m>\u001b[39m \u001b[38;5;241m2\u001b[39m \u001b[38;5;28;01melse\u001b[39;00m \u001b[38;5;124m'\u001b[39m\u001b[38;5;124msmall\u001b[39m\u001b[38;5;124m'\u001b[39m)\n",
      "File \u001b[1;32m~\\anaconda3\\Lib\\site-packages\\pandas\\core\\tools\\numeric.py:217\u001b[0m, in \u001b[0;36mto_numeric\u001b[1;34m(arg, errors, downcast, dtype_backend)\u001b[0m\n\u001b[0;32m    215\u001b[0m coerce_numeric \u001b[38;5;241m=\u001b[39m errors \u001b[38;5;129;01mnot\u001b[39;00m \u001b[38;5;129;01min\u001b[39;00m (\u001b[38;5;124m\"\u001b[39m\u001b[38;5;124mignore\u001b[39m\u001b[38;5;124m\"\u001b[39m, \u001b[38;5;124m\"\u001b[39m\u001b[38;5;124mraise\u001b[39m\u001b[38;5;124m\"\u001b[39m)\n\u001b[0;32m    216\u001b[0m \u001b[38;5;28;01mtry\u001b[39;00m:\n\u001b[1;32m--> 217\u001b[0m     values, new_mask \u001b[38;5;241m=\u001b[39m lib\u001b[38;5;241m.\u001b[39mmaybe_convert_numeric(  \u001b[38;5;66;03m# type: ignore[call-overload]  # noqa\u001b[39;00m\n\u001b[0;32m    218\u001b[0m         values,\n\u001b[0;32m    219\u001b[0m         \u001b[38;5;28mset\u001b[39m(),\n\u001b[0;32m    220\u001b[0m         coerce_numeric\u001b[38;5;241m=\u001b[39mcoerce_numeric,\n\u001b[0;32m    221\u001b[0m         convert_to_masked_nullable\u001b[38;5;241m=\u001b[39mdtype_backend \u001b[38;5;129;01mis\u001b[39;00m \u001b[38;5;129;01mnot\u001b[39;00m lib\u001b[38;5;241m.\u001b[39mno_default\n\u001b[0;32m    222\u001b[0m         \u001b[38;5;129;01mor\u001b[39;00m \u001b[38;5;28misinstance\u001b[39m(values_dtype, StringDtype),\n\u001b[0;32m    223\u001b[0m     )\n\u001b[0;32m    224\u001b[0m \u001b[38;5;28;01mexcept\u001b[39;00m (\u001b[38;5;167;01mValueError\u001b[39;00m, \u001b[38;5;167;01mTypeError\u001b[39;00m):\n\u001b[0;32m    225\u001b[0m     \u001b[38;5;28;01mif\u001b[39;00m errors \u001b[38;5;241m==\u001b[39m \u001b[38;5;124m\"\u001b[39m\u001b[38;5;124mraise\u001b[39m\u001b[38;5;124m\"\u001b[39m:\n",
      "File \u001b[1;32m~\\anaconda3\\Lib\\site-packages\\pandas\\_libs\\lib.pyx:2322\u001b[0m, in \u001b[0;36mpandas._libs.lib.maybe_convert_numeric\u001b[1;34m()\u001b[0m\n",
      "\u001b[1;31mValueError\u001b[0m: Unable to parse string \"small\" at position 0"
     ]
    }
   ],
   "source": [
    "nadhira['Bathrooms'] = pd.to_numeric(nadhira['Bathrooms'])\n",
    "\n",
    "import numpy as np\n",
    "\n",
    "nadhira['Bathrooms'] = nadhira['Bathrooms'].apply(lambda x: 'large' if x > 2 else 'small')\n",
    "\n",
    "# Menampilkan DataFrame setelah modifikasi\n",
    "print(nadhira)\n"
   ]
  },
  {
   "cell_type": "code",
   "execution_count": 50,
   "id": "b07a303b",
   "metadata": {},
   "outputs": [
    {
     "name": "stdout",
     "output_type": "stream",
     "text": [
      "      Price  SqFt  Bedrooms Bathrooms  Offers Brick Neighborhood newvariable\n",
      "0    114300  1790         2     small       2    No         East       small\n",
      "11   123000  1870         2     small       2   Yes         East       small\n",
      "18   111400  1700         2     small       1   Yes         East       small\n",
      "28    69100  1600         2     small       3    No        North       large\n",
      "31   112300  1930         2     small       2   Yes        North       small\n",
      "34   117800  2000         2     small       3    No        North       large\n",
      "36   117500  1880         2     small       2    No        North       small\n",
      "40   106600  1560         2     small       1    No         East       small\n",
      "42   105600  1990         2     small       3    No         East       large\n",
      "46   129800  1990         2     large       2    No        North       small\n",
      "48   115900  1980         2     small       2    No         East       small\n",
      "51    91100  1860         2     small       3    No        North       large\n",
      "52   117400  2150         2     large       4    No        North       large\n",
      "55   125700  1720         2     small       2   Yes         East       small\n",
      "61   100900  1610         2     small       2    No        North       small\n",
      "63   120500  1910         2     large       2    No         East       small\n",
      "65   111100  1450         2     small       1   Yes        North       small\n",
      "75   106900  1900         2     small       2    No        North       small\n",
      "82   164800  2050         2     small       1   Yes         West       small\n",
      "84    90500  1520         2     small       3    No        North       large\n",
      "89    97800  2010         2     small       4    No        North       large\n",
      "95   152500  1970         2     small       1   Yes         West       small\n",
      "97   126800  2000         2     small       1   Yes         East       small\n",
      "110  111600  1710         2     small       1    No        North       small\n",
      "111  114900  1740         2     small       2    No        North       small\n",
      "112  123600  1940         2     small       2   Yes         East       small\n",
      "119  109700  1920         2     small       4    No        North       large\n",
      "120  110400  1930         2     large       3    No        North       large\n",
      "122  144800  2060         2     small       1   Yes         East       small\n",
      "125  113500  2070         2     small       2    No        North       small\n"
     ]
    },
    {
     "name": "stderr",
     "output_type": "stream",
     "text": [
      "C:\\Users\\dirar\\AppData\\Local\\Temp\\ipykernel_22672\\3172092810.py:3: SettingWithCopyWarning: \n",
      "A value is trying to be set on a copy of a slice from a DataFrame.\n",
      "Try using .loc[row_indexer,col_indexer] = value instead\n",
      "\n",
      "See the caveats in the documentation: https://pandas.pydata.org/pandas-docs/stable/user_guide/indexing.html#returning-a-view-versus-a-copy\n",
      "  nadhira['newvariable'] = np.where(nadhira['Offers'] > 2, 'large', 'small')\n"
     ]
    }
   ],
   "source": [
    "import numpy as np\n",
    "\n",
    "nadhira['newvariable'] = np.where(nadhira['Offers'] > 2, 'large', 'small')\n",
    "\n",
    "# Menampilkan DataFrame 'nama' setelah penambahan kolom baru\n",
    "print(nadhira)\n"
   ]
  },
  {
   "cell_type": "code",
   "execution_count": 51,
   "id": "a3c07008",
   "metadata": {},
   "outputs": [
    {
     "name": "stdout",
     "output_type": "stream",
     "text": [
      "      Price  SqFt  Bedrooms Bathrooms  Offers Brick Neighborhood  newvariable\n",
      "0    114300  1790         2     small       2    No         East    63.854749\n",
      "11   123000  1870         2     small       2   Yes         East    65.775401\n",
      "18   111400  1700         2     small       1   Yes         East    65.529412\n",
      "28    69100  1600         2     small       3    No        North    43.187500\n",
      "31   112300  1930         2     small       2   Yes        North    58.186528\n",
      "34   117800  2000         2     small       3    No        North    58.900000\n",
      "36   117500  1880         2     small       2    No        North    62.500000\n",
      "40   106600  1560         2     small       1    No         East    68.333333\n",
      "42   105600  1990         2     small       3    No         East    53.065327\n",
      "46   129800  1990         2     large       2    No        North    65.226131\n",
      "48   115900  1980         2     small       2    No         East    58.535354\n",
      "51    91100  1860         2     small       3    No        North    48.978495\n",
      "52   117400  2150         2     large       4    No        North    54.604651\n",
      "55   125700  1720         2     small       2   Yes         East    73.081395\n",
      "61   100900  1610         2     small       2    No        North    62.670807\n",
      "63   120500  1910         2     large       2    No         East    63.089005\n",
      "65   111100  1450         2     small       1   Yes        North    76.620690\n",
      "75   106900  1900         2     small       2    No        North    56.263158\n",
      "82   164800  2050         2     small       1   Yes         West    80.390244\n",
      "84    90500  1520         2     small       3    No        North    59.539474\n",
      "89    97800  2010         2     small       4    No        North    48.656716\n",
      "95   152500  1970         2     small       1   Yes         West    77.411168\n",
      "97   126800  2000         2     small       1   Yes         East    63.400000\n",
      "110  111600  1710         2     small       1    No        North    65.263158\n",
      "111  114900  1740         2     small       2    No        North    66.034483\n",
      "112  123600  1940         2     small       2   Yes         East    63.711340\n",
      "119  109700  1920         2     small       4    No        North    57.135417\n",
      "120  110400  1930         2     large       3    No        North    57.202073\n",
      "122  144800  2060         2     small       1   Yes         East    70.291262\n",
      "125  113500  2070         2     small       2    No        North    54.830918\n"
     ]
    },
    {
     "name": "stderr",
     "output_type": "stream",
     "text": [
      "C:\\Users\\dirar\\AppData\\Local\\Temp\\ipykernel_22672\\1679686313.py:2: SettingWithCopyWarning: \n",
      "A value is trying to be set on a copy of a slice from a DataFrame.\n",
      "Try using .loc[row_indexer,col_indexer] = value instead\n",
      "\n",
      "See the caveats in the documentation: https://pandas.pydata.org/pandas-docs/stable/user_guide/indexing.html#returning-a-view-versus-a-copy\n",
      "  nadhira['newvariable'] = nadhira['Price'] / nadhira['SqFt']\n"
     ]
    }
   ],
   "source": [
    "# Menambahkan kolom baru 'newvariable' \n",
    "nadhira['newvariable'] = nadhira['Price'] / nadhira['SqFt']\n",
    "\n",
    "# Menampilkan DataFrame 'nama' setelah penambahan kolom baru\n",
    "print(nadhira)\n"
   ]
  },
  {
   "cell_type": "code",
   "execution_count": 52,
   "id": "e8ee3cef",
   "metadata": {},
   "outputs": [
    {
     "name": "stdout",
     "output_type": "stream",
     "text": [
      "      Price  SqFt  Bedrooms Bathrooms  Offers Brick Neighborhood\n",
      "0    114300  1790         2     small       2    No         East\n",
      "11   123000  1870         2     small       2   Yes         East\n",
      "18   111400  1700         2     small       1   Yes         East\n",
      "28    69100  1600         2     small       3    No        North\n",
      "31   112300  1930         2     small       2   Yes        North\n",
      "34   117800  2000         2     small       3    No        North\n",
      "36   117500  1880         2     small       2    No        North\n",
      "40   106600  1560         2     small       1    No         East\n",
      "42   105600  1990         2     small       3    No         East\n",
      "46   129800  1990         2     large       2    No        North\n",
      "48   115900  1980         2     small       2    No         East\n",
      "51    91100  1860         2     small       3    No        North\n",
      "52   117400  2150         2     large       4    No        North\n",
      "55   125700  1720         2     small       2   Yes         East\n",
      "61   100900  1610         2     small       2    No        North\n",
      "63   120500  1910         2     large       2    No         East\n",
      "65   111100  1450         2     small       1   Yes        North\n",
      "75   106900  1900         2     small       2    No        North\n",
      "82   164800  2050         2     small       1   Yes         West\n",
      "84    90500  1520         2     small       3    No        North\n",
      "89    97800  2010         2     small       4    No        North\n",
      "95   152500  1970         2     small       1   Yes         West\n",
      "97   126800  2000         2     small       1   Yes         East\n",
      "110  111600  1710         2     small       1    No        North\n",
      "111  114900  1740         2     small       2    No        North\n",
      "112  123600  1940         2     small       2   Yes         East\n",
      "119  109700  1920         2     small       4    No        North\n",
      "120  110400  1930         2     large       3    No        North\n",
      "122  144800  2060         2     small       1   Yes         East\n",
      "125  113500  2070         2     small       2    No        North\n"
     ]
    }
   ],
   "source": [
    "nadhira = nadhira.drop(columns=['newvariable'])\n",
    "\n",
    "# Menampilkan DataFrame 'nama' \n",
    "print(nadhira)\n"
   ]
  },
  {
   "cell_type": "code",
   "execution_count": 53,
   "id": "408f0036",
   "metadata": {},
   "outputs": [
    {
     "name": "stdout",
     "output_type": "stream",
     "text": [
      "      Price  SqFt\n",
      "0    114300  1790\n",
      "1    114200  2030\n",
      "2    114800  1740\n",
      "3     94700  1980\n",
      "4    119800  2130\n",
      "..      ...   ...\n",
      "123  119700  1900\n",
      "124  147900  2160\n",
      "125  113500  2070\n",
      "126  149900  2020\n",
      "127  124600  2250\n",
      "\n",
      "[128 rows x 2 columns]\n"
     ]
    }
   ],
   "source": [
    "kolom1dan2 = data_nadhira.iloc[:, 0:2]\n",
    "\n",
    "# Menampilkan DataFrame kolom1dan2\n",
    "print(kolom1dan2)\n"
   ]
  },
  {
   "cell_type": "code",
   "execution_count": 54,
   "id": "ad5b6587",
   "metadata": {},
   "outputs": [
    {
     "name": "stdout",
     "output_type": "stream",
     "text": [
      "     Bedrooms  Bathrooms\n",
      "0           2          2\n",
      "1           4          2\n",
      "2           3          2\n",
      "3           3          2\n",
      "4           3          3\n",
      "..        ...        ...\n",
      "123         3          3\n",
      "124         4          3\n",
      "125         2          2\n",
      "126         3          3\n",
      "127         3          3\n",
      "\n",
      "[128 rows x 2 columns]\n"
     ]
    }
   ],
   "source": [
    "# Memilih kolom 1 dan 2 dari DataFrame data_nama\n",
    "kolom3dan4 = data_nadhira.iloc[:, 2:4]\n",
    "\n",
    "# Menampilkan DataFrame kolom3dan4\n",
    "print(kolom3dan4)\n"
   ]
  },
  {
   "cell_type": "code",
   "execution_count": 55,
   "id": "2b7b5d49",
   "metadata": {},
   "outputs": [
    {
     "name": "stdout",
     "output_type": "stream",
     "text": [
      "      Price  SqFt  Bedrooms  Bathrooms\n",
      "0    114300  1790         2          2\n",
      "1    114200  2030         4          2\n",
      "2    114800  1740         3          2\n",
      "3     94700  1980         3          2\n",
      "4    119800  2130         3          3\n",
      "..      ...   ...       ...        ...\n",
      "123  119700  1900         3          3\n",
      "124  147900  2160         4          3\n",
      "125  113500  2070         2          2\n",
      "126  149900  2020         3          3\n",
      "127  124600  2250         3          3\n",
      "\n",
      "[128 rows x 4 columns]\n"
     ]
    }
   ],
   "source": [
    "#Menggabungkan dua DataFrame \n",
    "kolom1sd4 = pd.concat([kolom1dan2, kolom3dan4], axis=1)\n",
    "\n",
    "# Menampilkan DataFrame kolom1sd4\n",
    "print(kolom1sd4)\n"
   ]
  },
  {
   "cell_type": "code",
   "execution_count": 56,
   "id": "be2d52d9",
   "metadata": {},
   "outputs": [
    {
     "name": "stdout",
     "output_type": "stream",
     "text": [
      "    Price  SqFt  Bedrooms  Bathrooms  Offers Brick Neighborhood\n",
      "0  114300  1790         2          2       2    No         East\n",
      "1  114200  2030         4          2       3    No         East\n",
      "2  114800  1740         3          2       1    No         East\n",
      "3   94700  1980         3          2       3    No         East\n",
      "4  119800  2130         3          3       3    No         East\n",
      "5  114600  1780         3          2       2    No        North\n"
     ]
    }
   ],
   "source": [
    "import pandas as pd\n",
    "\n",
    "# Menggabungkan baris dari dua DataFrame\n",
    "baris1sd3 = data_nadhira.iloc[0:3, :]\n",
    "baris4sd6 = data_nadhira.iloc[3:6, :]\n",
    "baris1sd6 = pd.concat([baris1sd3,baris4sd6])\n",
    "\n",
    "# Menampilkan DataFrame baris1sd6\n",
    "print(baris1sd6)"
   ]
  },
  {
   "cell_type": "code",
   "execution_count": 57,
   "id": "dece1b71",
   "metadata": {},
   "outputs": [
    {
     "name": "stdout",
     "output_type": "stream",
     "text": [
      "      Price  SqFt  Bedrooms  Bathrooms  Offers Brick Neighborhood\n",
      "28    69100  1600         2          2       3    No        North\n",
      "54    81300  1650         3          2       3    No        North\n",
      "104   82300  1910         3          2       4    No         East\n",
      "17    83600  1990         3          3       4    No        North\n",
      "47    90300  2050         3          2       6    No        North\n",
      "..      ...   ...       ...        ...     ...   ...          ...\n",
      "81   184300  2140         4          3       2   Yes         West\n",
      "29   188000  2040         4          3       1   Yes         West\n",
      "85   188300  2250         4          3       2   Yes         West\n",
      "116  199500  2290         5          4       1   Yes         West\n",
      "103  211200  2440         4          3       3   Yes         West\n",
      "\n",
      "[128 rows x 7 columns]\n"
     ]
    }
   ],
   "source": [
    "data_nadhira_sort = data_nadhira.sort_values(by='Price')\n",
    "print(data_nadhira_sort)"
   ]
  },
  {
   "cell_type": "code",
   "execution_count": 31,
   "id": "3ec02022",
   "metadata": {},
   "outputs": [
    {
     "name": "stdout",
     "output_type": "stream",
     "text": [
      "    No.                    Nama Lengkap Gender  Angkatan  Tinggi  Badan  \\\n",
      "0     1                   Achmad Muqafi      L      2023            165   \n",
      "1     2         Aditya Fajrian Aryadeva      L      2023            165   \n",
      "2     3   Almakius Felix Bariq Hekopung      L      2023            165   \n",
      "3     4       Andrew Hendrian Nathanael      L      2023            165   \n",
      "4     5             April lesa farsilis      P      2023            165   \n",
      "5     6               Ariel Febrio Hadi      L      2023            160   \n",
      "6     7                 Arik Dias Putra      L      2023            160   \n",
      "7     8                    Aurel regina      P      2023            160   \n",
      "8     9             BAHRUDIN IZMI AULIA      L      2023            160   \n",
      "9    10           Bambang Aji WIcaksono      L      2023            160   \n",
      "10   11         Bidzi Mawfa Ferdiansyah      L      2023            160   \n",
      "11   12                 Calista Azzahra      P      2023            160   \n",
      "12   13                Dafasyah adinata      L      2023            160   \n",
      "13   14      Daud Marthinus Paul Jitmau      L      2023            163   \n",
      "14   15                  Dave Ryano F.M      L      2023            163   \n",
      "15   16   Dewanto Maulana Sukarno Putra      L      2023            163   \n",
      "16   17      Dyah Kartika Putri (Putri)      P      2023            163   \n",
      "17   18                     Ersa Ashari      L      2023            163   \n",
      "18   19      Fadhil Ibrahim Wira Dharma      L      2023            163   \n",
      "19   20                 Fairuz Maulidya      L      2023            163   \n",
      "20   21                     Naswa Aulia      P      2023            159   \n",
      "21   22                Nicholas Saputra      L      2023            159   \n",
      "22   23       Nicodemus Arjuna Prasetyo      L      2023            159   \n",
      "23   24                   Noval Susanto      L      2023            159   \n",
      "24   25  Novan Andreas Imanuel pasaribu      L      2023            167   \n",
      "25   26                        Nur Imam      L      2023            167   \n",
      "26   27           NUZURUL HAQI FADILLAH      L      2023            167   \n",
      "27   28                  Partahi daniel      L      2023            167   \n",
      "28   29     rachel azzahra putri lukito      P      2023            170   \n",
      "29   30          rafael gala herlambang      L      2023            170   \n",
      "\n",
      "    Waktu Perjalanan Wilayah Tinggal  \n",
      "0                 35      TANGGERANG  \n",
      "1                 35      TANGGERANG  \n",
      "2                 35      TANGGERANG  \n",
      "3                 35      TANGGERANG  \n",
      "4                 35      TANGGERANG  \n",
      "5                 35      TANGGERANG  \n",
      "6                 35          BEKASI  \n",
      "7                 35          BEKASI  \n",
      "8                 35          BEKASI  \n",
      "9                 60          BEKASI  \n",
      "10                60         JAKARTA  \n",
      "11                60         JAKARTA  \n",
      "12                60         JAKARTA  \n",
      "13                15         JAKARTA  \n",
      "14                15         JAKARTA  \n",
      "15                15         JAKARTA  \n",
      "16                15         JAKARTA  \n",
      "17                15         JAKARTA  \n",
      "18                20         JAKARTA  \n",
      "19                20         JAKARTA  \n",
      "20                40         CIBUBUR  \n",
      "21                40         CIBUBUR  \n",
      "22                40         CIBUBUR  \n",
      "23                40         CIBUBUR  \n",
      "24                40         CIBUBUR  \n",
      "25                40         CIBUBUR  \n",
      "26                30         CIBUBUR  \n",
      "27                30        PALMERAH  \n",
      "28                30        PALMERAH  \n",
      "29                30        PALMERAH  \n"
     ]
    }
   ],
   "source": [
    "import pandas as pd\n",
    "\n",
    "data_nadhira = pd.read_clipboard()\n",
    "print(data_nadhira)"
   ]
  },
  {
   "cell_type": "code",
   "execution_count": 32,
   "id": "d1084b2b",
   "metadata": {},
   "outputs": [
    {
     "name": "stdout",
     "output_type": "stream",
     "text": [
      "    No.             Nama Lengkap Gender  Angkatan  Tinggi  Badan  \\\n",
      "5     6        Ariel Febrio Hadi      L      2023            160   \n",
      "6     7          Arik Dias Putra      L      2023            160   \n",
      "7     8             Aurel regina      P      2023            160   \n",
      "8     9      BAHRUDIN IZMI AULIA      L      2023            160   \n",
      "9    10    Bambang Aji WIcaksono      L      2023            160   \n",
      "10   11  Bidzi Mawfa Ferdiansyah      L      2023            160   \n",
      "11   12          Calista Azzahra      P      2023            160   \n",
      "12   13         Dafasyah adinata      L      2023            160   \n",
      "\n",
      "    Waktu Perjalanan Wilayah Tinggal  \n",
      "5                 35      TANGGERANG  \n",
      "6                 35          BEKASI  \n",
      "7                 35          BEKASI  \n",
      "8                 35          BEKASI  \n",
      "9                 60          BEKASI  \n",
      "10                60         JAKARTA  \n",
      "11                60         JAKARTA  \n",
      "12                60         JAKARTA  \n"
     ]
    }
   ],
   "source": [
    "nadhira = data_nadhira[data_nadhira['Tinggi  Badan'] == 160 ]\n",
    "\n",
    "# Menampilkan nama\n",
    "print(nadhira)"
   ]
  },
  {
   "cell_type": "code",
   "execution_count": 33,
   "id": "009ce1ef",
   "metadata": {},
   "outputs": [
    {
     "name": "stdout",
     "output_type": "stream",
     "text": [
      "    No.             Nama Lengkap Gender  Angkatan Tinggi  Badan  \\\n",
      "5     6        Ariel Febrio Hadi      L      2023        pendek   \n",
      "6     7          Arik Dias Putra      L      2023        pendek   \n",
      "7     8             Aurel regina      P      2023        pendek   \n",
      "8     9      BAHRUDIN IZMI AULIA      L      2023        pendek   \n",
      "9    10    Bambang Aji WIcaksono      L      2023        pendek   \n",
      "10   11  Bidzi Mawfa Ferdiansyah      L      2023        pendek   \n",
      "11   12          Calista Azzahra      P      2023        pendek   \n",
      "12   13         Dafasyah adinata      L      2023        pendek   \n",
      "\n",
      "    Waktu Perjalanan Wilayah Tinggal  \n",
      "5                 35      TANGGERANG  \n",
      "6                 35          BEKASI  \n",
      "7                 35          BEKASI  \n",
      "8                 35          BEKASI  \n",
      "9                 60          BEKASI  \n",
      "10                60         JAKARTA  \n",
      "11                60         JAKARTA  \n",
      "12                60         JAKARTA  \n"
     ]
    },
    {
     "name": "stderr",
     "output_type": "stream",
     "text": [
      "C:\\Users\\dirar\\AppData\\Local\\Temp\\ipykernel_22672\\1669379472.py:1: SettingWithCopyWarning: \n",
      "A value is trying to be set on a copy of a slice from a DataFrame.\n",
      "Try using .loc[row_indexer,col_indexer] = value instead\n",
      "\n",
      "See the caveats in the documentation: https://pandas.pydata.org/pandas-docs/stable/user_guide/indexing.html#returning-a-view-versus-a-copy\n",
      "  nadhira['Tinggi  Badan'] = pd.to_numeric(nadhira['Tinggi  Badan'])\n",
      "C:\\Users\\dirar\\AppData\\Local\\Temp\\ipykernel_22672\\1669379472.py:5: SettingWithCopyWarning: \n",
      "A value is trying to be set on a copy of a slice from a DataFrame.\n",
      "Try using .loc[row_indexer,col_indexer] = value instead\n",
      "\n",
      "See the caveats in the documentation: https://pandas.pydata.org/pandas-docs/stable/user_guide/indexing.html#returning-a-view-versus-a-copy\n",
      "  nadhira ['Tinggi  Badan'] = nadhira['Tinggi  Badan'].apply(lambda x: 'tinggi' if x > 160 else 'pendek')\n"
     ]
    }
   ],
   "source": [
    "nadhira['Tinggi  Badan'] = pd.to_numeric(nadhira['Tinggi  Badan'])\n",
    "\n",
    "import numpy as np\n",
    "\n",
    "nadhira ['Tinggi  Badan'] = nadhira['Tinggi  Badan'].apply(lambda x: 'tinggi' if x > 160 else 'pendek')\n",
    "\n",
    "# Menampilkan DataFrame setelah modifikasi\n",
    "print(nadhira)"
   ]
  },
  {
   "cell_type": "code",
   "execution_count": 34,
   "id": "29de1407",
   "metadata": {},
   "outputs": [
    {
     "name": "stdout",
     "output_type": "stream",
     "text": [
      "    No.             Nama Lengkap Gender  Angkatan Tinggi  Badan  \\\n",
      "5     6        Ariel Febrio Hadi      L      2023        pendek   \n",
      "6     7          Arik Dias Putra      L      2023        pendek   \n",
      "7     8             Aurel regina      P      2023        pendek   \n",
      "8     9      BAHRUDIN IZMI AULIA      L      2023        pendek   \n",
      "9    10    Bambang Aji WIcaksono      L      2023        pendek   \n",
      "10   11  Bidzi Mawfa Ferdiansyah      L      2023        pendek   \n",
      "11   12          Calista Azzahra      P      2023        pendek   \n",
      "12   13         Dafasyah adinata      L      2023        pendek   \n",
      "\n",
      "    Waktu Perjalanan Wilayah Tinggal  Jurusan Fakultas  \n",
      "5                 35      TANGGERANG  Infor20      FTI  \n",
      "6                 35          BEKASI  Infor20      FTI  \n",
      "7                 35          BEKASI  Infor20      FTI  \n",
      "8                 35          BEKASI  Infor20      FTI  \n",
      "9                 60          BEKASI  Infor20      FTI  \n",
      "10                60         JAKARTA  Infor20      FTI  \n",
      "11                60         JAKARTA  Infor20      FTI  \n",
      "12                60         JAKARTA  Infor20      FTI  \n"
     ]
    },
    {
     "name": "stderr",
     "output_type": "stream",
     "text": [
      "C:\\Users\\dirar\\AppData\\Local\\Temp\\ipykernel_22672\\512089759.py:3: SettingWithCopyWarning: \n",
      "A value is trying to be set on a copy of a slice from a DataFrame.\n",
      "Try using .loc[row_indexer,col_indexer] = value instead\n",
      "\n",
      "See the caveats in the documentation: https://pandas.pydata.org/pandas-docs/stable/user_guide/indexing.html#returning-a-view-versus-a-copy\n",
      "  nadhira['Jurusan']='Infor20'\n",
      "C:\\Users\\dirar\\AppData\\Local\\Temp\\ipykernel_22672\\512089759.py:4: SettingWithCopyWarning: \n",
      "A value is trying to be set on a copy of a slice from a DataFrame.\n",
      "Try using .loc[row_indexer,col_indexer] = value instead\n",
      "\n",
      "See the caveats in the documentation: https://pandas.pydata.org/pandas-docs/stable/user_guide/indexing.html#returning-a-view-versus-a-copy\n",
      "  nadhira['Fakultas']='FTI'\n"
     ]
    }
   ],
   "source": [
    "import numpy as np\n",
    "\n",
    "nadhira['Jurusan']='Infor20'\n",
    "nadhira['Fakultas']='FTI'\n",
    "\n",
    "# Menampilkan DataFrame 'nama' setelah penambahan kolom baru\n",
    "print(nadhira)"
   ]
  },
  {
   "cell_type": "code",
   "execution_count": 35,
   "id": "5b375a38",
   "metadata": {},
   "outputs": [
    {
     "name": "stdout",
     "output_type": "stream",
     "text": [
      "    No.             Nama Lengkap Gender  Angkatan Tinggi  Badan  \\\n",
      "5     6        Ariel Febrio Hadi      L      2023        pendek   \n",
      "6     7          Arik Dias Putra      L      2023        pendek   \n",
      "7     8             Aurel regina      P      2023        pendek   \n",
      "8     9      BAHRUDIN IZMI AULIA      L      2023        pendek   \n",
      "9    10    Bambang Aji WIcaksono      L      2023        pendek   \n",
      "10   11  Bidzi Mawfa Ferdiansyah      L      2023        pendek   \n",
      "11   12          Calista Azzahra      P      2023        pendek   \n",
      "12   13         Dafasyah adinata      L      2023        pendek   \n",
      "\n",
      "    Waktu Perjalanan Wilayah Tinggal  Jurusan  \n",
      "5                 35      TANGGERANG  Infor20  \n",
      "6                 35          BEKASI  Infor20  \n",
      "7                 35          BEKASI  Infor20  \n",
      "8                 35          BEKASI  Infor20  \n",
      "9                 60          BEKASI  Infor20  \n",
      "10                60         JAKARTA  Infor20  \n",
      "11                60         JAKARTA  Infor20  \n",
      "12                60         JAKARTA  Infor20  \n"
     ]
    }
   ],
   "source": [
    "nadhira = nadhira.drop(columns=['Fakultas'])\n",
    "\n",
    "# Menampilkan DataFrame 'nama' \n",
    "print(nadhira)"
   ]
  },
  {
   "cell_type": "code",
   "execution_count": 36,
   "id": "69a0fc09",
   "metadata": {},
   "outputs": [
    {
     "name": "stdout",
     "output_type": "stream",
     "text": [
      "    No.                    Nama Lengkap\n",
      "0     1                   Achmad Muqafi\n",
      "1     2         Aditya Fajrian Aryadeva\n",
      "2     3   Almakius Felix Bariq Hekopung\n",
      "3     4       Andrew Hendrian Nathanael\n",
      "4     5             April lesa farsilis\n",
      "5     6               Ariel Febrio Hadi\n",
      "6     7                 Arik Dias Putra\n",
      "7     8                    Aurel regina\n",
      "8     9             BAHRUDIN IZMI AULIA\n",
      "9    10           Bambang Aji WIcaksono\n",
      "10   11         Bidzi Mawfa Ferdiansyah\n",
      "11   12                 Calista Azzahra\n",
      "12   13                Dafasyah adinata\n",
      "13   14      Daud Marthinus Paul Jitmau\n",
      "14   15                  Dave Ryano F.M\n",
      "15   16   Dewanto Maulana Sukarno Putra\n",
      "16   17      Dyah Kartika Putri (Putri)\n",
      "17   18                     Ersa Ashari\n",
      "18   19      Fadhil Ibrahim Wira Dharma\n",
      "19   20                 Fairuz Maulidya\n",
      "20   21                     Naswa Aulia\n",
      "21   22                Nicholas Saputra\n",
      "22   23       Nicodemus Arjuna Prasetyo\n",
      "23   24                   Noval Susanto\n",
      "24   25  Novan Andreas Imanuel pasaribu\n",
      "25   26                        Nur Imam\n",
      "26   27           NUZURUL HAQI FADILLAH\n",
      "27   28                  Partahi daniel\n",
      "28   29     rachel azzahra putri lukito\n",
      "29   30          rafael gala herlambang\n"
     ]
    }
   ],
   "source": [
    "kolom1dan2 = data_nadhira.iloc[:, 0:2]\n",
    "\n",
    "# Menampilkan DataFrame kolom1dan2\n",
    "print(kolom1dan2)"
   ]
  },
  {
   "cell_type": "code",
   "execution_count": 37,
   "id": "7fbcb3e7",
   "metadata": {},
   "outputs": [
    {
     "name": "stdout",
     "output_type": "stream",
     "text": [
      "   Gender  Angkatan\n",
      "0       L      2023\n",
      "1       L      2023\n",
      "2       L      2023\n",
      "3       L      2023\n",
      "4       P      2023\n",
      "5       L      2023\n",
      "6       L      2023\n",
      "7       P      2023\n",
      "8       L      2023\n",
      "9       L      2023\n",
      "10      L      2023\n",
      "11      P      2023\n",
      "12      L      2023\n",
      "13      L      2023\n",
      "14      L      2023\n",
      "15      L      2023\n",
      "16      P      2023\n",
      "17      L      2023\n",
      "18      L      2023\n",
      "19      L      2023\n",
      "20      P      2023\n",
      "21      L      2023\n",
      "22      L      2023\n",
      "23      L      2023\n",
      "24      L      2023\n",
      "25      L      2023\n",
      "26      L      2023\n",
      "27      L      2023\n",
      "28      P      2023\n",
      "29      L      2023\n"
     ]
    }
   ],
   "source": [
    "# Memilih kolom 1 dan 2 dari DataFrame data_nama\n",
    "kolom3dan4 = data_nadhira.iloc[:, 2:4]\n",
    "\n",
    "# Menampilkan DataFrame kolom3dan4\n",
    "print(kolom3dan4)"
   ]
  },
  {
   "cell_type": "code",
   "execution_count": 38,
   "id": "12acf146",
   "metadata": {},
   "outputs": [
    {
     "name": "stdout",
     "output_type": "stream",
     "text": [
      "    No.                    Nama Lengkap Gender  Angkatan\n",
      "0     1                   Achmad Muqafi      L      2023\n",
      "1     2         Aditya Fajrian Aryadeva      L      2023\n",
      "2     3   Almakius Felix Bariq Hekopung      L      2023\n",
      "3     4       Andrew Hendrian Nathanael      L      2023\n",
      "4     5             April lesa farsilis      P      2023\n",
      "5     6               Ariel Febrio Hadi      L      2023\n",
      "6     7                 Arik Dias Putra      L      2023\n",
      "7     8                    Aurel regina      P      2023\n",
      "8     9             BAHRUDIN IZMI AULIA      L      2023\n",
      "9    10           Bambang Aji WIcaksono      L      2023\n",
      "10   11         Bidzi Mawfa Ferdiansyah      L      2023\n",
      "11   12                 Calista Azzahra      P      2023\n",
      "12   13                Dafasyah adinata      L      2023\n",
      "13   14      Daud Marthinus Paul Jitmau      L      2023\n",
      "14   15                  Dave Ryano F.M      L      2023\n",
      "15   16   Dewanto Maulana Sukarno Putra      L      2023\n",
      "16   17      Dyah Kartika Putri (Putri)      P      2023\n",
      "17   18                     Ersa Ashari      L      2023\n",
      "18   19      Fadhil Ibrahim Wira Dharma      L      2023\n",
      "19   20                 Fairuz Maulidya      L      2023\n",
      "20   21                     Naswa Aulia      P      2023\n",
      "21   22                Nicholas Saputra      L      2023\n",
      "22   23       Nicodemus Arjuna Prasetyo      L      2023\n",
      "23   24                   Noval Susanto      L      2023\n",
      "24   25  Novan Andreas Imanuel pasaribu      L      2023\n",
      "25   26                        Nur Imam      L      2023\n",
      "26   27           NUZURUL HAQI FADILLAH      L      2023\n",
      "27   28                  Partahi daniel      L      2023\n",
      "28   29     rachel azzahra putri lukito      P      2023\n",
      "29   30          rafael gala herlambang      L      2023\n"
     ]
    }
   ],
   "source": [
    "#Menggabungkan dua DataFrame \n",
    "kolom1sd4 = pd.concat([kolom1dan2, kolom3dan4], axis=1)\n",
    "\n",
    "# Menampilkan DataFrame kolom1sd4\n",
    "print(kolom1sd4)\n"
   ]
  },
  {
   "cell_type": "code",
   "execution_count": 42,
   "id": "41433c3a",
   "metadata": {},
   "outputs": [
    {
     "name": "stdout",
     "output_type": "stream",
     "text": [
      "    No.                    Nama Lengkap Gender  Angkatan  Tinggi  Badan  \\\n",
      "0     1                   Achmad Muqafi      L      2023            165   \n",
      "1     2         Aditya Fajrian Aryadeva      L      2023            165   \n",
      "2     3   Almakius Felix Bariq Hekopung      L      2023            165   \n",
      "3     4       Andrew Hendrian Nathanael      L      2023            165   \n",
      "4     5             April lesa farsilis      P      2023            165   \n",
      "24   25  Novan Andreas Imanuel pasaribu      L      2023            167   \n",
      "25   26                        Nur Imam      L      2023            167   \n",
      "26   27           NUZURUL HAQI FADILLAH      L      2023            167   \n",
      "27   28                  Partahi daniel      L      2023            167   \n",
      "28   29     rachel azzahra putri lukito      P      2023            170   \n",
      "29   30          rafael gala herlambang      L      2023            170   \n",
      "\n",
      "    Waktu Perjalanan Wilayah Tinggal  \n",
      "0                 35      TANGGERANG  \n",
      "1                 35      TANGGERANG  \n",
      "2                 35      TANGGERANG  \n",
      "3                 35      TANGGERANG  \n",
      "4                 35      TANGGERANG  \n",
      "24                40         CIBUBUR  \n",
      "25                40         CIBUBUR  \n",
      "26                30         CIBUBUR  \n",
      "27                30        PALMERAH  \n",
      "28                30        PALMERAH  \n",
      "29                30        PALMERAH  \n"
     ]
    }
   ],
   "source": [
    "import pandas as pd\n",
    "\n",
    "# Menggabungkan baris dari dua DataFrame\n",
    "baris1sd5 = data_nadhira.iloc[0:5, :]\n",
    "baris25sd30 = data_nadhira.iloc[24:31, :]\n",
    "baris1sd5dan25sd30 = pd.concat([baris1sd5, baris25sd30])\n",
    "\n",
    "# Menampilkan DataFrame baris1sd6\n",
    "print(baris1sd5dan25sd30)"
   ]
  },
  {
   "cell_type": "code",
   "execution_count": 43,
   "id": "2f3403b9",
   "metadata": {},
   "outputs": [
    {
     "name": "stdout",
     "output_type": "stream",
     "text": [
      "    No.                    Nama Lengkap Gender  Angkatan  Tinggi  Badan  \\\n",
      "14   15                  Dave Ryano F.M      L      2023            163   \n",
      "17   18                     Ersa Ashari      L      2023            163   \n",
      "16   17      Dyah Kartika Putri (Putri)      P      2023            163   \n",
      "15   16   Dewanto Maulana Sukarno Putra      L      2023            163   \n",
      "13   14      Daud Marthinus Paul Jitmau      L      2023            163   \n",
      "19   20                 Fairuz Maulidya      L      2023            163   \n",
      "18   19      Fadhil Ibrahim Wira Dharma      L      2023            163   \n",
      "27   28                  Partahi daniel      L      2023            167   \n",
      "26   27           NUZURUL HAQI FADILLAH      L      2023            167   \n",
      "28   29     rachel azzahra putri lukito      P      2023            170   \n",
      "29   30          rafael gala herlambang      L      2023            170   \n",
      "0     1                   Achmad Muqafi      L      2023            165   \n",
      "1     2         Aditya Fajrian Aryadeva      L      2023            165   \n",
      "2     3   Almakius Felix Bariq Hekopung      L      2023            165   \n",
      "8     9             BAHRUDIN IZMI AULIA      L      2023            160   \n",
      "7     8                    Aurel regina      P      2023            160   \n",
      "6     7                 Arik Dias Putra      L      2023            160   \n",
      "5     6               Ariel Febrio Hadi      L      2023            160   \n",
      "4     5             April lesa farsilis      P      2023            165   \n",
      "3     4       Andrew Hendrian Nathanael      L      2023            165   \n",
      "25   26                        Nur Imam      L      2023            167   \n",
      "24   25  Novan Andreas Imanuel pasaribu      L      2023            167   \n",
      "23   24                   Noval Susanto      L      2023            159   \n",
      "20   21                     Naswa Aulia      P      2023            159   \n",
      "21   22                Nicholas Saputra      L      2023            159   \n",
      "22   23       Nicodemus Arjuna Prasetyo      L      2023            159   \n",
      "10   11         Bidzi Mawfa Ferdiansyah      L      2023            160   \n",
      "9    10           Bambang Aji WIcaksono      L      2023            160   \n",
      "12   13                Dafasyah adinata      L      2023            160   \n",
      "11   12                 Calista Azzahra      P      2023            160   \n",
      "\n",
      "    Waktu Perjalanan Wilayah Tinggal  \n",
      "14                15         JAKARTA  \n",
      "17                15         JAKARTA  \n",
      "16                15         JAKARTA  \n",
      "15                15         JAKARTA  \n",
      "13                15         JAKARTA  \n",
      "19                20         JAKARTA  \n",
      "18                20         JAKARTA  \n",
      "27                30        PALMERAH  \n",
      "26                30         CIBUBUR  \n",
      "28                30        PALMERAH  \n",
      "29                30        PALMERAH  \n",
      "0                 35      TANGGERANG  \n",
      "1                 35      TANGGERANG  \n",
      "2                 35      TANGGERANG  \n",
      "8                 35          BEKASI  \n",
      "7                 35          BEKASI  \n",
      "6                 35          BEKASI  \n",
      "5                 35      TANGGERANG  \n",
      "4                 35      TANGGERANG  \n",
      "3                 35      TANGGERANG  \n",
      "25                40         CIBUBUR  \n",
      "24                40         CIBUBUR  \n",
      "23                40         CIBUBUR  \n",
      "20                40         CIBUBUR  \n",
      "21                40         CIBUBUR  \n",
      "22                40         CIBUBUR  \n",
      "10                60         JAKARTA  \n",
      "9                 60          BEKASI  \n",
      "12                60         JAKARTA  \n",
      "11                60         JAKARTA  \n"
     ]
    }
   ],
   "source": [
    "data_nadhira_sort = data_nadhira.sort_values(by='Waktu Perjalanan')\n",
    "print(data_nadhira_sort)"
   ]
  },
  {
   "cell_type": "code",
   "execution_count": null,
   "id": "25717747",
   "metadata": {},
   "outputs": [],
   "source": []
  }
 ],
 "metadata": {
  "kernelspec": {
   "display_name": "Python 3 (ipykernel)",
   "language": "python",
   "name": "python3"
  },
  "language_info": {
   "codemirror_mode": {
    "name": "ipython",
    "version": 3
   },
   "file_extension": ".py",
   "mimetype": "text/x-python",
   "name": "python",
   "nbconvert_exporter": "python",
   "pygments_lexer": "ipython3",
   "version": "3.11.5"
  }
 },
 "nbformat": 4,
 "nbformat_minor": 5
}
